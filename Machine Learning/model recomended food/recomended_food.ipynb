{
  "nbformat": 4,
  "nbformat_minor": 0,
  "metadata": {
    "colab": {
      "provenance": []
    },
    "kernelspec": {
      "name": "python3",
      "display_name": "Python 3"
    },
    "language_info": {
      "name": "python"
    }
  },
  "cells": [
    {
      "cell_type": "markdown",
      "source": [
        "\n",
        "\n",
        "# Import All Library\n",
        "\n",
        "\n",
        "\n",
        "\n",
        "\n"
      ],
      "metadata": {
        "id": "SfVSPwcqV244"
      }
    },
    {
      "cell_type": "code",
      "execution_count": 1,
      "metadata": {
        "id": "dAVl5gD-y-6m"
      },
      "outputs": [],
      "source": [
        "import pandas as pd\n",
        "import numpy as np\n",
        "import matplotlib.pyplot as plt\n",
        "import tensorflow as tf\n",
        "from sklearn.model_selection import train_test_split\n",
        "from sklearn.preprocessing import MinMaxScaler\n",
        "from tensorflow.keras.models import Sequential\n",
        "from tensorflow.keras.layers import LSTM, Dense, Dropout\n",
        "from tensorflow.keras.optimizers import Adam"
      ]
    },
    {
      "cell_type": "markdown",
      "source": [
        "# Read & Cleaning Dataset"
      ],
      "metadata": {
        "id": "oCe2Kfn3WNdt"
      }
    },
    {
      "cell_type": "code",
      "source": [
        "dataset = pd.read_csv('nutrition.csv')\n",
        "dataset.head()"
      ],
      "metadata": {
        "colab": {
          "base_uri": "https://localhost:8080/",
          "height": 206
        },
        "id": "ZoNZLQ4zzfFs",
        "outputId": "790358df-4965-47fe-df29-8459cf801927"
      },
      "execution_count": 2,
      "outputs": [
        {
          "output_type": "execute_result",
          "data": {
            "text/plain": [
              "   id  calories  proteins   fat  carbohydrate                name  \\\n",
              "0   1     280.0       9.2  28.4           0.0                Abon   \n",
              "1   2     513.0      23.7  37.0          21.3        Abon haruwan   \n",
              "2   3       0.0       0.0   0.2           0.0           Agar-agar   \n",
              "3   4      45.0       1.1   0.4          10.8  Akar tonjong segar   \n",
              "4   5      37.0       4.4   0.5           3.8       Aletoge segar   \n",
              "\n",
              "                                               image  \n",
              "0  https://img-cdn.medkomtek.com/PbrY9X3ignQ8sVuj...  \n",
              "1  https://img-global.cpcdn.com/recipes/cbf330fbd...  \n",
              "2  https://res.cloudinary.com/dk0z4ums3/image/upl...  \n",
              "3  https://images.tokopedia.net/img/cache/200-squ...  \n",
              "4  https://nilaigizi.com/assets/images/produk/pro...  "
            ],
            "text/html": [
              "\n",
              "  <div id=\"df-75fa1b2c-9ffa-4928-b351-2bd95c262cc9\" class=\"colab-df-container\">\n",
              "    <div>\n",
              "<style scoped>\n",
              "    .dataframe tbody tr th:only-of-type {\n",
              "        vertical-align: middle;\n",
              "    }\n",
              "\n",
              "    .dataframe tbody tr th {\n",
              "        vertical-align: top;\n",
              "    }\n",
              "\n",
              "    .dataframe thead th {\n",
              "        text-align: right;\n",
              "    }\n",
              "</style>\n",
              "<table border=\"1\" class=\"dataframe\">\n",
              "  <thead>\n",
              "    <tr style=\"text-align: right;\">\n",
              "      <th></th>\n",
              "      <th>id</th>\n",
              "      <th>calories</th>\n",
              "      <th>proteins</th>\n",
              "      <th>fat</th>\n",
              "      <th>carbohydrate</th>\n",
              "      <th>name</th>\n",
              "      <th>image</th>\n",
              "    </tr>\n",
              "  </thead>\n",
              "  <tbody>\n",
              "    <tr>\n",
              "      <th>0</th>\n",
              "      <td>1</td>\n",
              "      <td>280.0</td>\n",
              "      <td>9.2</td>\n",
              "      <td>28.4</td>\n",
              "      <td>0.0</td>\n",
              "      <td>Abon</td>\n",
              "      <td>https://img-cdn.medkomtek.com/PbrY9X3ignQ8sVuj...</td>\n",
              "    </tr>\n",
              "    <tr>\n",
              "      <th>1</th>\n",
              "      <td>2</td>\n",
              "      <td>513.0</td>\n",
              "      <td>23.7</td>\n",
              "      <td>37.0</td>\n",
              "      <td>21.3</td>\n",
              "      <td>Abon haruwan</td>\n",
              "      <td>https://img-global.cpcdn.com/recipes/cbf330fbd...</td>\n",
              "    </tr>\n",
              "    <tr>\n",
              "      <th>2</th>\n",
              "      <td>3</td>\n",
              "      <td>0.0</td>\n",
              "      <td>0.0</td>\n",
              "      <td>0.2</td>\n",
              "      <td>0.0</td>\n",
              "      <td>Agar-agar</td>\n",
              "      <td>https://res.cloudinary.com/dk0z4ums3/image/upl...</td>\n",
              "    </tr>\n",
              "    <tr>\n",
              "      <th>3</th>\n",
              "      <td>4</td>\n",
              "      <td>45.0</td>\n",
              "      <td>1.1</td>\n",
              "      <td>0.4</td>\n",
              "      <td>10.8</td>\n",
              "      <td>Akar tonjong segar</td>\n",
              "      <td>https://images.tokopedia.net/img/cache/200-squ...</td>\n",
              "    </tr>\n",
              "    <tr>\n",
              "      <th>4</th>\n",
              "      <td>5</td>\n",
              "      <td>37.0</td>\n",
              "      <td>4.4</td>\n",
              "      <td>0.5</td>\n",
              "      <td>3.8</td>\n",
              "      <td>Aletoge segar</td>\n",
              "      <td>https://nilaigizi.com/assets/images/produk/pro...</td>\n",
              "    </tr>\n",
              "  </tbody>\n",
              "</table>\n",
              "</div>\n",
              "    <div class=\"colab-df-buttons\">\n",
              "\n",
              "  <div class=\"colab-df-container\">\n",
              "    <button class=\"colab-df-convert\" onclick=\"convertToInteractive('df-75fa1b2c-9ffa-4928-b351-2bd95c262cc9')\"\n",
              "            title=\"Convert this dataframe to an interactive table.\"\n",
              "            style=\"display:none;\">\n",
              "\n",
              "  <svg xmlns=\"http://www.w3.org/2000/svg\" height=\"24px\" viewBox=\"0 -960 960 960\">\n",
              "    <path d=\"M120-120v-720h720v720H120Zm60-500h600v-160H180v160Zm220 220h160v-160H400v160Zm0 220h160v-160H400v160ZM180-400h160v-160H180v160Zm440 0h160v-160H620v160ZM180-180h160v-160H180v160Zm440 0h160v-160H620v160Z\"/>\n",
              "  </svg>\n",
              "    </button>\n",
              "\n",
              "  <style>\n",
              "    .colab-df-container {\n",
              "      display:flex;\n",
              "      gap: 12px;\n",
              "    }\n",
              "\n",
              "    .colab-df-convert {\n",
              "      background-color: #E8F0FE;\n",
              "      border: none;\n",
              "      border-radius: 50%;\n",
              "      cursor: pointer;\n",
              "      display: none;\n",
              "      fill: #1967D2;\n",
              "      height: 32px;\n",
              "      padding: 0 0 0 0;\n",
              "      width: 32px;\n",
              "    }\n",
              "\n",
              "    .colab-df-convert:hover {\n",
              "      background-color: #E2EBFA;\n",
              "      box-shadow: 0px 1px 2px rgba(60, 64, 67, 0.3), 0px 1px 3px 1px rgba(60, 64, 67, 0.15);\n",
              "      fill: #174EA6;\n",
              "    }\n",
              "\n",
              "    .colab-df-buttons div {\n",
              "      margin-bottom: 4px;\n",
              "    }\n",
              "\n",
              "    [theme=dark] .colab-df-convert {\n",
              "      background-color: #3B4455;\n",
              "      fill: #D2E3FC;\n",
              "    }\n",
              "\n",
              "    [theme=dark] .colab-df-convert:hover {\n",
              "      background-color: #434B5C;\n",
              "      box-shadow: 0px 1px 3px 1px rgba(0, 0, 0, 0.15);\n",
              "      filter: drop-shadow(0px 1px 2px rgba(0, 0, 0, 0.3));\n",
              "      fill: #FFFFFF;\n",
              "    }\n",
              "  </style>\n",
              "\n",
              "    <script>\n",
              "      const buttonEl =\n",
              "        document.querySelector('#df-75fa1b2c-9ffa-4928-b351-2bd95c262cc9 button.colab-df-convert');\n",
              "      buttonEl.style.display =\n",
              "        google.colab.kernel.accessAllowed ? 'block' : 'none';\n",
              "\n",
              "      async function convertToInteractive(key) {\n",
              "        const element = document.querySelector('#df-75fa1b2c-9ffa-4928-b351-2bd95c262cc9');\n",
              "        const dataTable =\n",
              "          await google.colab.kernel.invokeFunction('convertToInteractive',\n",
              "                                                    [key], {});\n",
              "        if (!dataTable) return;\n",
              "\n",
              "        const docLinkHtml = 'Like what you see? Visit the ' +\n",
              "          '<a target=\"_blank\" href=https://colab.research.google.com/notebooks/data_table.ipynb>data table notebook</a>'\n",
              "          + ' to learn more about interactive tables.';\n",
              "        element.innerHTML = '';\n",
              "        dataTable['output_type'] = 'display_data';\n",
              "        await google.colab.output.renderOutput(dataTable, element);\n",
              "        const docLink = document.createElement('div');\n",
              "        docLink.innerHTML = docLinkHtml;\n",
              "        element.appendChild(docLink);\n",
              "      }\n",
              "    </script>\n",
              "  </div>\n",
              "\n",
              "\n",
              "<div id=\"df-3a6c4411-c273-49b8-a378-2f02a9e016c5\">\n",
              "  <button class=\"colab-df-quickchart\" onclick=\"quickchart('df-3a6c4411-c273-49b8-a378-2f02a9e016c5')\"\n",
              "            title=\"Suggest charts\"\n",
              "            style=\"display:none;\">\n",
              "\n",
              "<svg xmlns=\"http://www.w3.org/2000/svg\" height=\"24px\"viewBox=\"0 0 24 24\"\n",
              "     width=\"24px\">\n",
              "    <g>\n",
              "        <path d=\"M19 3H5c-1.1 0-2 .9-2 2v14c0 1.1.9 2 2 2h14c1.1 0 2-.9 2-2V5c0-1.1-.9-2-2-2zM9 17H7v-7h2v7zm4 0h-2V7h2v10zm4 0h-2v-4h2v4z\"/>\n",
              "    </g>\n",
              "</svg>\n",
              "  </button>\n",
              "\n",
              "<style>\n",
              "  .colab-df-quickchart {\n",
              "      --bg-color: #E8F0FE;\n",
              "      --fill-color: #1967D2;\n",
              "      --hover-bg-color: #E2EBFA;\n",
              "      --hover-fill-color: #174EA6;\n",
              "      --disabled-fill-color: #AAA;\n",
              "      --disabled-bg-color: #DDD;\n",
              "  }\n",
              "\n",
              "  [theme=dark] .colab-df-quickchart {\n",
              "      --bg-color: #3B4455;\n",
              "      --fill-color: #D2E3FC;\n",
              "      --hover-bg-color: #434B5C;\n",
              "      --hover-fill-color: #FFFFFF;\n",
              "      --disabled-bg-color: #3B4455;\n",
              "      --disabled-fill-color: #666;\n",
              "  }\n",
              "\n",
              "  .colab-df-quickchart {\n",
              "    background-color: var(--bg-color);\n",
              "    border: none;\n",
              "    border-radius: 50%;\n",
              "    cursor: pointer;\n",
              "    display: none;\n",
              "    fill: var(--fill-color);\n",
              "    height: 32px;\n",
              "    padding: 0;\n",
              "    width: 32px;\n",
              "  }\n",
              "\n",
              "  .colab-df-quickchart:hover {\n",
              "    background-color: var(--hover-bg-color);\n",
              "    box-shadow: 0 1px 2px rgba(60, 64, 67, 0.3), 0 1px 3px 1px rgba(60, 64, 67, 0.15);\n",
              "    fill: var(--button-hover-fill-color);\n",
              "  }\n",
              "\n",
              "  .colab-df-quickchart-complete:disabled,\n",
              "  .colab-df-quickchart-complete:disabled:hover {\n",
              "    background-color: var(--disabled-bg-color);\n",
              "    fill: var(--disabled-fill-color);\n",
              "    box-shadow: none;\n",
              "  }\n",
              "\n",
              "  .colab-df-spinner {\n",
              "    border: 2px solid var(--fill-color);\n",
              "    border-color: transparent;\n",
              "    border-bottom-color: var(--fill-color);\n",
              "    animation:\n",
              "      spin 1s steps(1) infinite;\n",
              "  }\n",
              "\n",
              "  @keyframes spin {\n",
              "    0% {\n",
              "      border-color: transparent;\n",
              "      border-bottom-color: var(--fill-color);\n",
              "      border-left-color: var(--fill-color);\n",
              "    }\n",
              "    20% {\n",
              "      border-color: transparent;\n",
              "      border-left-color: var(--fill-color);\n",
              "      border-top-color: var(--fill-color);\n",
              "    }\n",
              "    30% {\n",
              "      border-color: transparent;\n",
              "      border-left-color: var(--fill-color);\n",
              "      border-top-color: var(--fill-color);\n",
              "      border-right-color: var(--fill-color);\n",
              "    }\n",
              "    40% {\n",
              "      border-color: transparent;\n",
              "      border-right-color: var(--fill-color);\n",
              "      border-top-color: var(--fill-color);\n",
              "    }\n",
              "    60% {\n",
              "      border-color: transparent;\n",
              "      border-right-color: var(--fill-color);\n",
              "    }\n",
              "    80% {\n",
              "      border-color: transparent;\n",
              "      border-right-color: var(--fill-color);\n",
              "      border-bottom-color: var(--fill-color);\n",
              "    }\n",
              "    90% {\n",
              "      border-color: transparent;\n",
              "      border-bottom-color: var(--fill-color);\n",
              "    }\n",
              "  }\n",
              "</style>\n",
              "\n",
              "  <script>\n",
              "    async function quickchart(key) {\n",
              "      const quickchartButtonEl =\n",
              "        document.querySelector('#' + key + ' button');\n",
              "      quickchartButtonEl.disabled = true;  // To prevent multiple clicks.\n",
              "      quickchartButtonEl.classList.add('colab-df-spinner');\n",
              "      try {\n",
              "        const charts = await google.colab.kernel.invokeFunction(\n",
              "            'suggestCharts', [key], {});\n",
              "      } catch (error) {\n",
              "        console.error('Error during call to suggestCharts:', error);\n",
              "      }\n",
              "      quickchartButtonEl.classList.remove('colab-df-spinner');\n",
              "      quickchartButtonEl.classList.add('colab-df-quickchart-complete');\n",
              "    }\n",
              "    (() => {\n",
              "      let quickchartButtonEl =\n",
              "        document.querySelector('#df-3a6c4411-c273-49b8-a378-2f02a9e016c5 button');\n",
              "      quickchartButtonEl.style.display =\n",
              "        google.colab.kernel.accessAllowed ? 'block' : 'none';\n",
              "    })();\n",
              "  </script>\n",
              "</div>\n",
              "\n",
              "    </div>\n",
              "  </div>\n"
            ],
            "application/vnd.google.colaboratory.intrinsic+json": {
              "type": "dataframe",
              "variable_name": "dataset",
              "summary": "{\n  \"name\": \"dataset\",\n  \"rows\": 1346,\n  \"fields\": [\n    {\n      \"column\": \"id\",\n      \"properties\": {\n        \"dtype\": \"number\",\n        \"std\": 388,\n        \"min\": 1,\n        \"max\": 1346,\n        \"num_unique_values\": 1346,\n        \"samples\": [\n          895,\n          1141,\n          340\n        ],\n        \"semantic_type\": \"\",\n        \"description\": \"\"\n      }\n    },\n    {\n      \"column\": \"calories\",\n      \"properties\": {\n        \"dtype\": \"number\",\n        \"std\": 163.0754297001605,\n        \"min\": 0.0,\n        \"max\": 940.0,\n        \"num_unique_values\": 472,\n        \"samples\": [\n          76.0,\n          300.0,\n          298.0\n        ],\n        \"semantic_type\": \"\",\n        \"description\": \"\"\n      }\n    },\n    {\n      \"column\": \"proteins\",\n      \"properties\": {\n        \"dtype\": \"number\",\n        \"std\": 11.847980020078714,\n        \"min\": 0.0,\n        \"max\": 83.0,\n        \"num_unique_values\": 312,\n        \"samples\": [\n          7.9,\n          5.0,\n          3.1\n        ],\n        \"semantic_type\": \"\",\n        \"description\": \"\"\n      }\n    },\n    {\n      \"column\": \"fat\",\n      \"properties\": {\n        \"dtype\": \"number\",\n        \"std\": 13.733062879085647,\n        \"min\": 0.0,\n        \"max\": 100.0,\n        \"num_unique_values\": 279,\n        \"samples\": [\n          9.0,\n          3.2,\n          25.5\n        ],\n        \"semantic_type\": \"\",\n        \"description\": \"\"\n      }\n    },\n    {\n      \"column\": \"carbohydrate\",\n      \"properties\": {\n        \"dtype\": \"number\",\n        \"std\": 32.193054395911595,\n        \"min\": 0.0,\n        \"max\": 647.0,\n        \"num_unique_values\": 544,\n        \"samples\": [\n          104.0,\n          2.5,\n          27.2\n        ],\n        \"semantic_type\": \"\",\n        \"description\": \"\"\n      }\n    },\n    {\n      \"column\": \"name\",\n      \"properties\": {\n        \"dtype\": \"string\",\n        \"num_unique_values\": 1346,\n        \"samples\": [\n          \"Mie basah\",\n          \"Siomay \",\n          \"Empal (daging) Goreng masakan\"\n        ],\n        \"semantic_type\": \"\",\n        \"description\": \"\"\n      }\n    },\n    {\n      \"column\": \"image\",\n      \"properties\": {\n        \"dtype\": \"string\",\n        \"num_unique_values\": 1307,\n        \"samples\": [\n          \"https://res.cloudinary.com/dk0z4ums3/image/upload/v1630045137/attached_image/di-balik-manfaat-toge-kenali-bahaya-dan-cara-mengonsumsinya.jpg\",\n          \"https://static.sehatq.com/content/review/image/1644897313.png\",\n          \"https://www.tagar.id/Asset/uploads2019/1650333684879-kulit-melinjo.jpg\"\n        ],\n        \"semantic_type\": \"\",\n        \"description\": \"\"\n      }\n    }\n  ]\n}"
            }
          },
          "metadata": {},
          "execution_count": 2
        }
      ]
    },
    {
      "cell_type": "code",
      "source": [
        "dataset.info()\n",
        "dataset.isna().sum()"
      ],
      "metadata": {
        "colab": {
          "base_uri": "https://localhost:8080/",
          "height": 546
        },
        "id": "x3x5UDEozmoB",
        "outputId": "ad2743ac-8d50-41d7-eaf4-23aba46b14fc"
      },
      "execution_count": 3,
      "outputs": [
        {
          "output_type": "stream",
          "name": "stdout",
          "text": [
            "<class 'pandas.core.frame.DataFrame'>\n",
            "RangeIndex: 1346 entries, 0 to 1345\n",
            "Data columns (total 7 columns):\n",
            " #   Column        Non-Null Count  Dtype  \n",
            "---  ------        --------------  -----  \n",
            " 0   id            1346 non-null   int64  \n",
            " 1   calories      1346 non-null   float64\n",
            " 2   proteins      1346 non-null   float64\n",
            " 3   fat           1346 non-null   float64\n",
            " 4   carbohydrate  1346 non-null   float64\n",
            " 5   name          1346 non-null   object \n",
            " 6   image         1346 non-null   object \n",
            "dtypes: float64(4), int64(1), object(2)\n",
            "memory usage: 73.7+ KB\n"
          ]
        },
        {
          "output_type": "execute_result",
          "data": {
            "text/plain": [
              "id              0\n",
              "calories        0\n",
              "proteins        0\n",
              "fat             0\n",
              "carbohydrate    0\n",
              "name            0\n",
              "image           0\n",
              "dtype: int64"
            ],
            "text/html": [
              "<div>\n",
              "<style scoped>\n",
              "    .dataframe tbody tr th:only-of-type {\n",
              "        vertical-align: middle;\n",
              "    }\n",
              "\n",
              "    .dataframe tbody tr th {\n",
              "        vertical-align: top;\n",
              "    }\n",
              "\n",
              "    .dataframe thead th {\n",
              "        text-align: right;\n",
              "    }\n",
              "</style>\n",
              "<table border=\"1\" class=\"dataframe\">\n",
              "  <thead>\n",
              "    <tr style=\"text-align: right;\">\n",
              "      <th></th>\n",
              "      <th>0</th>\n",
              "    </tr>\n",
              "  </thead>\n",
              "  <tbody>\n",
              "    <tr>\n",
              "      <th>id</th>\n",
              "      <td>0</td>\n",
              "    </tr>\n",
              "    <tr>\n",
              "      <th>calories</th>\n",
              "      <td>0</td>\n",
              "    </tr>\n",
              "    <tr>\n",
              "      <th>proteins</th>\n",
              "      <td>0</td>\n",
              "    </tr>\n",
              "    <tr>\n",
              "      <th>fat</th>\n",
              "      <td>0</td>\n",
              "    </tr>\n",
              "    <tr>\n",
              "      <th>carbohydrate</th>\n",
              "      <td>0</td>\n",
              "    </tr>\n",
              "    <tr>\n",
              "      <th>name</th>\n",
              "      <td>0</td>\n",
              "    </tr>\n",
              "    <tr>\n",
              "      <th>image</th>\n",
              "      <td>0</td>\n",
              "    </tr>\n",
              "  </tbody>\n",
              "</table>\n",
              "</div><br><label><b>dtype:</b> int64</label>"
            ]
          },
          "metadata": {},
          "execution_count": 3
        }
      ]
    },
    {
      "cell_type": "markdown",
      "source": [
        "### Drop image"
      ],
      "metadata": {
        "id": "qtqggJXLXhbt"
      }
    },
    {
      "cell_type": "code",
      "source": [
        "dataset.drop(columns=['image'], inplace=True)"
      ],
      "metadata": {
        "id": "9LqPyPvuzqUG"
      },
      "execution_count": 4,
      "outputs": []
    },
    {
      "cell_type": "code",
      "source": [
        "print(dataset.head(100))"
      ],
      "metadata": {
        "colab": {
          "base_uri": "https://localhost:8080/"
        },
        "id": "UQdzCmclzz1o",
        "outputId": "9e1ac822-5b24-46b3-ca7a-e71d57ab727a"
      },
      "execution_count": 5,
      "outputs": [
        {
          "output_type": "stream",
          "name": "stdout",
          "text": [
            "     id  calories  proteins   fat  carbohydrate                  name\n",
            "0     1     280.0       9.2  28.4           0.0                  Abon\n",
            "1     2     513.0      23.7  37.0          21.3          Abon haruwan\n",
            "2     3       0.0       0.0   0.2           0.0             Agar-agar\n",
            "3     4      45.0       1.1   0.4          10.8    Akar tonjong segar\n",
            "4     5      37.0       4.4   0.5           3.8         Aletoge segar\n",
            "..  ...       ...       ...   ...           ...                   ...\n",
            "95   96     131.0      20.2   4.3           2.8  Belibis daging segar\n",
            "96   97      36.0       0.4   0.4           8.8             Belimbing\n",
            "97   98     145.0       1.2   0.4          34.2  Belitung talas kukus\n",
            "98   99     417.0      25.9  19.4          32.0          Belut goreng\n",
            "99  100      70.0      14.6   0.8           1.0           Belut segar\n",
            "\n",
            "[100 rows x 6 columns]\n"
          ]
        }
      ]
    },
    {
      "cell_type": "markdown",
      "source": [
        "### Make Coloumn \"suitable for diabetes\""
      ],
      "metadata": {
        "id": "qg7eKFktXnTt"
      }
    },
    {
      "cell_type": "code",
      "source": [
        "carb_threshold = 50  # Batas karbohidrat untuk diabetes\n",
        "dataset['suitable for diabetes'] = (dataset['carbohydrate'] <= carb_threshold).astype(int)"
      ],
      "metadata": {
        "id": "BzTNK3FEz4ns"
      },
      "execution_count": 6,
      "outputs": []
    },
    {
      "cell_type": "code",
      "source": [
        "print(dataset['carbohydrate'].describe())"
      ],
      "metadata": {
        "colab": {
          "base_uri": "https://localhost:8080/"
        },
        "id": "Bug-6NshE-W-",
        "outputId": "270d645a-d8ef-434f-e34c-bd2899d1a1ab"
      },
      "execution_count": 7,
      "outputs": [
        {
          "output_type": "stream",
          "name": "stdout",
          "text": [
            "count    1346.000000\n",
            "mean       25.390193\n",
            "std        32.193054\n",
            "min         0.000000\n",
            "25%         4.525000\n",
            "50%        13.300000\n",
            "75%        37.575000\n",
            "max       647.000000\n",
            "Name: carbohydrate, dtype: float64\n"
          ]
        }
      ]
    },
    {
      "cell_type": "markdown",
      "source": [
        "### Make Coloumn for \"glucose\""
      ],
      "metadata": {
        "id": "038Rq76iXyFv"
      }
    },
    {
      "cell_type": "code",
      "source": [
        "# Tentukan GI rata-rata\n",
        "average_gi = 0.55  # Nilai rata-rata untuk estimasi GI\n",
        "\n",
        "# Hitung estimasi glukosa dalam mg/dL\n",
        "dataset[\"glucose\"] = dataset[\"carbohydrate\"] * average_gi * 18"
      ],
      "metadata": {
        "id": "ptaUvlQn8IzU"
      },
      "execution_count": 8,
      "outputs": []
    },
    {
      "cell_type": "code",
      "source": [
        "print(dataset.head())"
      ],
      "metadata": {
        "colab": {
          "base_uri": "https://localhost:8080/"
        },
        "id": "odS389mY0EGw",
        "outputId": "21a1649c-c4bf-4a1d-ebaf-71fea9cdff71"
      },
      "execution_count": 9,
      "outputs": [
        {
          "output_type": "stream",
          "name": "stdout",
          "text": [
            "   id  calories  proteins   fat  carbohydrate                name  \\\n",
            "0   1     280.0       9.2  28.4           0.0                Abon   \n",
            "1   2     513.0      23.7  37.0          21.3        Abon haruwan   \n",
            "2   3       0.0       0.0   0.2           0.0           Agar-agar   \n",
            "3   4      45.0       1.1   0.4          10.8  Akar tonjong segar   \n",
            "4   5      37.0       4.4   0.5           3.8       Aletoge segar   \n",
            "\n",
            "   suitable for diabetes  glucose  \n",
            "0                      1     0.00  \n",
            "1                      1   210.87  \n",
            "2                      1     0.00  \n",
            "3                      1   106.92  \n",
            "4                      1    37.62  \n"
          ]
        }
      ]
    },
    {
      "cell_type": "code",
      "source": [
        "print(dataset[\"glucose\"])"
      ],
      "metadata": {
        "colab": {
          "base_uri": "https://localhost:8080/"
        },
        "id": "MjZVQc1vPdhi",
        "outputId": "0759b8cd-51eb-49c6-9fd8-50cb75ff0aec"
      },
      "execution_count": 10,
      "outputs": [
        {
          "output_type": "stream",
          "name": "stdout",
          "text": [
            "0         0.00\n",
            "1       210.87\n",
            "2         0.00\n",
            "3       106.92\n",
            "4        37.62\n",
            "         ...  \n",
            "1341     92.07\n",
            "1342     82.17\n",
            "1343     62.37\n",
            "1344    575.19\n",
            "1345     39.60\n",
            "Name: glucose, Length: 1346, dtype: float64\n"
          ]
        }
      ]
    },
    {
      "cell_type": "code",
      "source": [
        "print(dataset['suitable for diabetes'].value_counts())"
      ],
      "metadata": {
        "colab": {
          "base_uri": "https://localhost:8080/"
        },
        "id": "2dv-b-ny4V7j",
        "outputId": "8d3d5a4e-b250-4844-ab9d-892810c8abf9"
      },
      "execution_count": 11,
      "outputs": [
        {
          "output_type": "stream",
          "name": "stdout",
          "text": [
            "suitable for diabetes\n",
            "1    1073\n",
            "0     273\n",
            "Name: count, dtype: int64\n"
          ]
        }
      ]
    },
    {
      "cell_type": "code",
      "source": [
        "dataset.to_csv('nutrition1.csv', index=False)"
      ],
      "metadata": {
        "id": "VhdZaDcTtzlu"
      },
      "execution_count": 12,
      "outputs": []
    },
    {
      "cell_type": "markdown",
      "source": [
        "# Preprocessing Data"
      ],
      "metadata": {
        "id": "PH8O7xDiWauV"
      }
    },
    {
      "cell_type": "code",
      "source": [
        "X = dataset['glucose'].values  # Fitur input (glukosa)\n",
        "y = dataset['suitable for diabetes'].values  # Label output"
      ],
      "metadata": {
        "id": "rDRjamz00Jue"
      },
      "execution_count": 13,
      "outputs": []
    },
    {
      "cell_type": "code",
      "source": [
        "scaler = MinMaxScaler()\n",
        "X = scaler.fit_transform(X.reshape(-1, 1))"
      ],
      "metadata": {
        "id": "vhhYonYn0PNe"
      },
      "execution_count": 14,
      "outputs": []
    },
    {
      "cell_type": "code",
      "source": [
        "X_train, X_test, y_train, y_test = train_test_split(X, y, test_size=0.2, random_state=42)"
      ],
      "metadata": {
        "id": "tw8XEO810SGo"
      },
      "execution_count": 15,
      "outputs": []
    },
    {
      "cell_type": "code",
      "source": [
        "X_train = np.expand_dims(X_train, axis=1)\n",
        "X_test = np.expand_dims(X_test, axis=1)"
      ],
      "metadata": {
        "id": "t2NOGk4vO-Jx"
      },
      "execution_count": 16,
      "outputs": []
    },
    {
      "cell_type": "code",
      "source": [
        "model = Sequential([\n",
        "    LSTM(64, input_shape=(X_train.shape[1], X_train.shape[2]), return_sequences=False),\n",
        "    Dropout(0.2),\n",
        "    Dense(32, activation=\"relu\"),\n",
        "    Dense(1, activation=\"sigmoid\")\n",
        "])"
      ],
      "metadata": {
        "colab": {
          "base_uri": "https://localhost:8080/"
        },
        "id": "tQ4wHRVU0T6s",
        "outputId": "0cc622c4-4acb-4f11-8f70-9b8bf2ba5ac5"
      },
      "execution_count": 17,
      "outputs": [
        {
          "output_type": "stream",
          "name": "stderr",
          "text": [
            "/usr/local/lib/python3.10/dist-packages/keras/src/layers/rnn/rnn.py:204: UserWarning: Do not pass an `input_shape`/`input_dim` argument to a layer. When using Sequential models, prefer using an `Input(shape)` object as the first layer in the model instead.\n",
            "  super().__init__(**kwargs)\n"
          ]
        }
      ]
    },
    {
      "cell_type": "markdown",
      "source": [
        "# Training Model"
      ],
      "metadata": {
        "id": "AHIFV9eqXLjW"
      }
    },
    {
      "cell_type": "code",
      "source": [
        "model.compile(optimizer='Adam', loss='binary_crossentropy', metrics=['accuracy'])\n",
        "history = model.fit(\n",
        "    X_train,\n",
        "    y_train,\n",
        "    validation_data=(X_test, y_test),\n",
        "    epochs=50,\n",
        "    batch_size=16)"
      ],
      "metadata": {
        "colab": {
          "base_uri": "https://localhost:8080/"
        },
        "id": "frxBuXIk0Wpj",
        "outputId": "29d6cf3a-2511-4eba-dd3b-c2bc3a1e5bfe"
      },
      "execution_count": 18,
      "outputs": [
        {
          "output_type": "stream",
          "name": "stdout",
          "text": [
            "Epoch 1/50\n",
            "\u001b[1m68/68\u001b[0m \u001b[32m━━━━━━━━━━━━━━━━━━━━\u001b[0m\u001b[37m\u001b[0m \u001b[1m4s\u001b[0m 8ms/step - accuracy: 0.7639 - loss: 0.6604 - val_accuracy: 0.8296 - val_loss: 0.4935\n",
            "Epoch 2/50\n",
            "\u001b[1m68/68\u001b[0m \u001b[32m━━━━━━━━━━━━━━━━━━━━\u001b[0m\u001b[37m\u001b[0m \u001b[1m0s\u001b[0m 3ms/step - accuracy: 0.7948 - loss: 0.5047 - val_accuracy: 0.8296 - val_loss: 0.4321\n",
            "Epoch 3/50\n",
            "\u001b[1m68/68\u001b[0m \u001b[32m━━━━━━━━━━━━━━━━━━━━\u001b[0m\u001b[37m\u001b[0m \u001b[1m0s\u001b[0m 3ms/step - accuracy: 0.7890 - loss: 0.4810 - val_accuracy: 0.8296 - val_loss: 0.4090\n",
            "Epoch 4/50\n",
            "\u001b[1m68/68\u001b[0m \u001b[32m━━━━━━━━━━━━━━━━━━━━\u001b[0m\u001b[37m\u001b[0m \u001b[1m0s\u001b[0m 4ms/step - accuracy: 0.7914 - loss: 0.4431 - val_accuracy: 0.8296 - val_loss: 0.3632\n",
            "Epoch 5/50\n",
            "\u001b[1m68/68\u001b[0m \u001b[32m━━━━━━━━━━━━━━━━━━━━\u001b[0m\u001b[37m\u001b[0m \u001b[1m0s\u001b[0m 4ms/step - accuracy: 0.8028 - loss: 0.3785 - val_accuracy: 0.8296 - val_loss: 0.2793\n",
            "Epoch 6/50\n",
            "\u001b[1m68/68\u001b[0m \u001b[32m━━━━━━━━━━━━━━━━━━━━\u001b[0m\u001b[37m\u001b[0m \u001b[1m0s\u001b[0m 4ms/step - accuracy: 0.8567 - loss: 0.2771 - val_accuracy: 0.9667 - val_loss: 0.1726\n",
            "Epoch 7/50\n",
            "\u001b[1m68/68\u001b[0m \u001b[32m━━━━━━━━━━━━━━━━━━━━\u001b[0m\u001b[37m\u001b[0m \u001b[1m0s\u001b[0m 4ms/step - accuracy: 0.9739 - loss: 0.1779 - val_accuracy: 0.9889 - val_loss: 0.1044\n",
            "Epoch 8/50\n",
            "\u001b[1m68/68\u001b[0m \u001b[32m━━━━━━━━━━━━━━━━━━━━\u001b[0m\u001b[37m\u001b[0m \u001b[1m0s\u001b[0m 4ms/step - accuracy: 0.9816 - loss: 0.1091 - val_accuracy: 0.9889 - val_loss: 0.0736\n",
            "Epoch 9/50\n",
            "\u001b[1m68/68\u001b[0m \u001b[32m━━━━━━━━━━━━━━━━━━━━\u001b[0m\u001b[37m\u001b[0m \u001b[1m0s\u001b[0m 4ms/step - accuracy: 0.9938 - loss: 0.0741 - val_accuracy: 0.9889 - val_loss: 0.0565\n",
            "Epoch 10/50\n",
            "\u001b[1m68/68\u001b[0m \u001b[32m━━━━━━━━━━━━━━━━━━━━\u001b[0m\u001b[37m\u001b[0m \u001b[1m0s\u001b[0m 3ms/step - accuracy: 0.9940 - loss: 0.0690 - val_accuracy: 0.9963 - val_loss: 0.0443\n",
            "Epoch 11/50\n",
            "\u001b[1m68/68\u001b[0m \u001b[32m━━━━━━━━━━━━━━━━━━━━\u001b[0m\u001b[37m\u001b[0m \u001b[1m0s\u001b[0m 4ms/step - accuracy: 0.9889 - loss: 0.0563 - val_accuracy: 0.9926 - val_loss: 0.0386\n",
            "Epoch 12/50\n",
            "\u001b[1m68/68\u001b[0m \u001b[32m━━━━━━━━━━━━━━━━━━━━\u001b[0m\u001b[37m\u001b[0m \u001b[1m0s\u001b[0m 4ms/step - accuracy: 0.9906 - loss: 0.0507 - val_accuracy: 0.9926 - val_loss: 0.0344\n",
            "Epoch 13/50\n",
            "\u001b[1m68/68\u001b[0m \u001b[32m━━━━━━━━━━━━━━━━━━━━\u001b[0m\u001b[37m\u001b[0m \u001b[1m0s\u001b[0m 3ms/step - accuracy: 0.9955 - loss: 0.0459 - val_accuracy: 0.9889 - val_loss: 0.0353\n",
            "Epoch 14/50\n",
            "\u001b[1m68/68\u001b[0m \u001b[32m━━━━━━━━━━━━━━━━━━━━\u001b[0m\u001b[37m\u001b[0m \u001b[1m0s\u001b[0m 4ms/step - accuracy: 0.9902 - loss: 0.0454 - val_accuracy: 0.9926 - val_loss: 0.0286\n",
            "Epoch 15/50\n",
            "\u001b[1m68/68\u001b[0m \u001b[32m━━━━━━━━━━━━━━━━━━━━\u001b[0m\u001b[37m\u001b[0m \u001b[1m0s\u001b[0m 4ms/step - accuracy: 0.9962 - loss: 0.0309 - val_accuracy: 0.9926 - val_loss: 0.0261\n",
            "Epoch 16/50\n",
            "\u001b[1m68/68\u001b[0m \u001b[32m━━━━━━━━━━━━━━━━━━━━\u001b[0m\u001b[37m\u001b[0m \u001b[1m0s\u001b[0m 4ms/step - accuracy: 0.9863 - loss: 0.0382 - val_accuracy: 0.9889 - val_loss: 0.0276\n",
            "Epoch 17/50\n",
            "\u001b[1m68/68\u001b[0m \u001b[32m━━━━━━━━━━━━━━━━━━━━\u001b[0m\u001b[37m\u001b[0m \u001b[1m0s\u001b[0m 4ms/step - accuracy: 0.9892 - loss: 0.0354 - val_accuracy: 0.9889 - val_loss: 0.0231\n",
            "Epoch 18/50\n",
            "\u001b[1m68/68\u001b[0m \u001b[32m━━━━━━━━━━━━━━━━━━━━\u001b[0m\u001b[37m\u001b[0m \u001b[1m0s\u001b[0m 3ms/step - accuracy: 0.9853 - loss: 0.0341 - val_accuracy: 0.9926 - val_loss: 0.0217\n",
            "Epoch 19/50\n",
            "\u001b[1m68/68\u001b[0m \u001b[32m━━━━━━━━━━━━━━━━━━━━\u001b[0m\u001b[37m\u001b[0m \u001b[1m0s\u001b[0m 3ms/step - accuracy: 0.9938 - loss: 0.0288 - val_accuracy: 0.9926 - val_loss: 0.0205\n",
            "Epoch 20/50\n",
            "\u001b[1m68/68\u001b[0m \u001b[32m━━━━━━━━━━━━━━━━━━━━\u001b[0m\u001b[37m\u001b[0m \u001b[1m0s\u001b[0m 4ms/step - accuracy: 0.9911 - loss: 0.0269 - val_accuracy: 0.9963 - val_loss: 0.0197\n",
            "Epoch 21/50\n",
            "\u001b[1m68/68\u001b[0m \u001b[32m━━━━━━━━━━━━━━━━━━━━\u001b[0m\u001b[37m\u001b[0m \u001b[1m0s\u001b[0m 3ms/step - accuracy: 0.9894 - loss: 0.0340 - val_accuracy: 0.9926 - val_loss: 0.0192\n",
            "Epoch 22/50\n",
            "\u001b[1m68/68\u001b[0m \u001b[32m━━━━━━━━━━━━━━━━━━━━\u001b[0m\u001b[37m\u001b[0m \u001b[1m0s\u001b[0m 4ms/step - accuracy: 0.9942 - loss: 0.0199 - val_accuracy: 0.9889 - val_loss: 0.0186\n",
            "Epoch 23/50\n",
            "\u001b[1m68/68\u001b[0m \u001b[32m━━━━━━━━━━━━━━━━━━━━\u001b[0m\u001b[37m\u001b[0m \u001b[1m0s\u001b[0m 4ms/step - accuracy: 0.9939 - loss: 0.0238 - val_accuracy: 0.9926 - val_loss: 0.0188\n",
            "Epoch 24/50\n",
            "\u001b[1m68/68\u001b[0m \u001b[32m━━━━━━━━━━━━━━━━━━━━\u001b[0m\u001b[37m\u001b[0m \u001b[1m0s\u001b[0m 4ms/step - accuracy: 0.9960 - loss: 0.0205 - val_accuracy: 0.9926 - val_loss: 0.0199\n",
            "Epoch 25/50\n",
            "\u001b[1m68/68\u001b[0m \u001b[32m━━━━━━━━━━━━━━━━━━━━\u001b[0m\u001b[37m\u001b[0m \u001b[1m0s\u001b[0m 4ms/step - accuracy: 0.9944 - loss: 0.0219 - val_accuracy: 0.9889 - val_loss: 0.0181\n",
            "Epoch 26/50\n",
            "\u001b[1m68/68\u001b[0m \u001b[32m━━━━━━━━━━━━━━━━━━━━\u001b[0m\u001b[37m\u001b[0m \u001b[1m1s\u001b[0m 4ms/step - accuracy: 0.9959 - loss: 0.0215 - val_accuracy: 0.9889 - val_loss: 0.0239\n",
            "Epoch 27/50\n",
            "\u001b[1m68/68\u001b[0m \u001b[32m━━━━━━━━━━━━━━━━━━━━\u001b[0m\u001b[37m\u001b[0m \u001b[1m0s\u001b[0m 4ms/step - accuracy: 0.9943 - loss: 0.0207 - val_accuracy: 1.0000 - val_loss: 0.0163\n",
            "Epoch 28/50\n",
            "\u001b[1m68/68\u001b[0m \u001b[32m━━━━━━━━━━━━━━━━━━━━\u001b[0m\u001b[37m\u001b[0m \u001b[1m0s\u001b[0m 3ms/step - accuracy: 0.9937 - loss: 0.0193 - val_accuracy: 0.9926 - val_loss: 0.0165\n",
            "Epoch 29/50\n",
            "\u001b[1m68/68\u001b[0m \u001b[32m━━━━━━━━━━━━━━━━━━━━\u001b[0m\u001b[37m\u001b[0m \u001b[1m0s\u001b[0m 4ms/step - accuracy: 0.9955 - loss: 0.0216 - val_accuracy: 0.9889 - val_loss: 0.0165\n",
            "Epoch 30/50\n",
            "\u001b[1m68/68\u001b[0m \u001b[32m━━━━━━━━━━━━━━━━━━━━\u001b[0m\u001b[37m\u001b[0m \u001b[1m0s\u001b[0m 3ms/step - accuracy: 0.9958 - loss: 0.0192 - val_accuracy: 0.9889 - val_loss: 0.0175\n",
            "Epoch 31/50\n",
            "\u001b[1m68/68\u001b[0m \u001b[32m━━━━━━━━━━━━━━━━━━━━\u001b[0m\u001b[37m\u001b[0m \u001b[1m0s\u001b[0m 5ms/step - accuracy: 0.9921 - loss: 0.0229 - val_accuracy: 0.9889 - val_loss: 0.0208\n",
            "Epoch 32/50\n",
            "\u001b[1m68/68\u001b[0m \u001b[32m━━━━━━━━━━━━━━━━━━━━\u001b[0m\u001b[37m\u001b[0m \u001b[1m0s\u001b[0m 6ms/step - accuracy: 0.9966 - loss: 0.0160 - val_accuracy: 0.9926 - val_loss: 0.0172\n",
            "Epoch 33/50\n",
            "\u001b[1m68/68\u001b[0m \u001b[32m━━━━━━━━━━━━━━━━━━━━\u001b[0m\u001b[37m\u001b[0m \u001b[1m0s\u001b[0m 5ms/step - accuracy: 0.9986 - loss: 0.0137 - val_accuracy: 0.9889 - val_loss: 0.0188\n",
            "Epoch 34/50\n",
            "\u001b[1m68/68\u001b[0m \u001b[32m━━━━━━━━━━━━━━━━━━━━\u001b[0m\u001b[37m\u001b[0m \u001b[1m0s\u001b[0m 6ms/step - accuracy: 0.9913 - loss: 0.0186 - val_accuracy: 0.9889 - val_loss: 0.0154\n",
            "Epoch 35/50\n",
            "\u001b[1m68/68\u001b[0m \u001b[32m━━━━━━━━━━━━━━━━━━━━\u001b[0m\u001b[37m\u001b[0m \u001b[1m1s\u001b[0m 6ms/step - accuracy: 0.9942 - loss: 0.0140 - val_accuracy: 0.9926 - val_loss: 0.0146\n",
            "Epoch 36/50\n",
            "\u001b[1m68/68\u001b[0m \u001b[32m━━━━━━━━━━━━━━━━━━━━\u001b[0m\u001b[37m\u001b[0m \u001b[1m0s\u001b[0m 6ms/step - accuracy: 0.9941 - loss: 0.0147 - val_accuracy: 0.9926 - val_loss: 0.0144\n",
            "Epoch 37/50\n",
            "\u001b[1m68/68\u001b[0m \u001b[32m━━━━━━━━━━━━━━━━━━━━\u001b[0m\u001b[37m\u001b[0m \u001b[1m1s\u001b[0m 6ms/step - accuracy: 0.9903 - loss: 0.0225 - val_accuracy: 1.0000 - val_loss: 0.0142\n",
            "Epoch 38/50\n",
            "\u001b[1m68/68\u001b[0m \u001b[32m━━━━━━━━━━━━━━━━━━━━\u001b[0m\u001b[37m\u001b[0m \u001b[1m0s\u001b[0m 4ms/step - accuracy: 0.9973 - loss: 0.0162 - val_accuracy: 0.9889 - val_loss: 0.0147\n",
            "Epoch 39/50\n",
            "\u001b[1m68/68\u001b[0m \u001b[32m━━━━━━━━━━━━━━━━━━━━\u001b[0m\u001b[37m\u001b[0m \u001b[1m0s\u001b[0m 3ms/step - accuracy: 0.9922 - loss: 0.0207 - val_accuracy: 0.9926 - val_loss: 0.0140\n",
            "Epoch 40/50\n",
            "\u001b[1m68/68\u001b[0m \u001b[32m━━━━━━━━━━━━━━━━━━━━\u001b[0m\u001b[37m\u001b[0m \u001b[1m0s\u001b[0m 4ms/step - accuracy: 0.9908 - loss: 0.0195 - val_accuracy: 0.9889 - val_loss: 0.0185\n",
            "Epoch 41/50\n",
            "\u001b[1m68/68\u001b[0m \u001b[32m━━━━━━━━━━━━━━━━━━━━\u001b[0m\u001b[37m\u001b[0m \u001b[1m0s\u001b[0m 4ms/step - accuracy: 0.9972 - loss: 0.0153 - val_accuracy: 0.9889 - val_loss: 0.0154\n",
            "Epoch 42/50\n",
            "\u001b[1m68/68\u001b[0m \u001b[32m━━━━━━━━━━━━━━━━━━━━\u001b[0m\u001b[37m\u001b[0m \u001b[1m0s\u001b[0m 4ms/step - accuracy: 0.9922 - loss: 0.0193 - val_accuracy: 0.9963 - val_loss: 0.0137\n",
            "Epoch 43/50\n",
            "\u001b[1m68/68\u001b[0m \u001b[32m━━━━━━━━━━━━━━━━━━━━\u001b[0m\u001b[37m\u001b[0m \u001b[1m0s\u001b[0m 4ms/step - accuracy: 0.9929 - loss: 0.0195 - val_accuracy: 0.9889 - val_loss: 0.0172\n",
            "Epoch 44/50\n",
            "\u001b[1m68/68\u001b[0m \u001b[32m━━━━━━━━━━━━━━━━━━━━\u001b[0m\u001b[37m\u001b[0m \u001b[1m0s\u001b[0m 3ms/step - accuracy: 0.9952 - loss: 0.0162 - val_accuracy: 0.9889 - val_loss: 0.0158\n",
            "Epoch 45/50\n",
            "\u001b[1m68/68\u001b[0m \u001b[32m━━━━━━━━━━━━━━━━━━━━\u001b[0m\u001b[37m\u001b[0m \u001b[1m0s\u001b[0m 4ms/step - accuracy: 0.9968 - loss: 0.0146 - val_accuracy: 0.9926 - val_loss: 0.0151\n",
            "Epoch 46/50\n",
            "\u001b[1m68/68\u001b[0m \u001b[32m━━━━━━━━━━━━━━━━━━━━\u001b[0m\u001b[37m\u001b[0m \u001b[1m0s\u001b[0m 4ms/step - accuracy: 0.9983 - loss: 0.0082 - val_accuracy: 0.9926 - val_loss: 0.0132\n",
            "Epoch 47/50\n",
            "\u001b[1m68/68\u001b[0m \u001b[32m━━━━━━━━━━━━━━━━━━━━\u001b[0m\u001b[37m\u001b[0m \u001b[1m0s\u001b[0m 3ms/step - accuracy: 0.9904 - loss: 0.0177 - val_accuracy: 0.9926 - val_loss: 0.0132\n",
            "Epoch 48/50\n",
            "\u001b[1m68/68\u001b[0m \u001b[32m━━━━━━━━━━━━━━━━━━━━\u001b[0m\u001b[37m\u001b[0m \u001b[1m0s\u001b[0m 3ms/step - accuracy: 0.9952 - loss: 0.0103 - val_accuracy: 0.9963 - val_loss: 0.0130\n",
            "Epoch 49/50\n",
            "\u001b[1m68/68\u001b[0m \u001b[32m━━━━━━━━━━━━━━━━━━━━\u001b[0m\u001b[37m\u001b[0m \u001b[1m0s\u001b[0m 4ms/step - accuracy: 0.9950 - loss: 0.0154 - val_accuracy: 0.9963 - val_loss: 0.0129\n",
            "Epoch 50/50\n",
            "\u001b[1m68/68\u001b[0m \u001b[32m━━━━━━━━━━━━━━━━━━━━\u001b[0m\u001b[37m\u001b[0m \u001b[1m0s\u001b[0m 4ms/step - accuracy: 0.9940 - loss: 0.0125 - val_accuracy: 0.9889 - val_loss: 0.0197\n"
          ]
        }
      ]
    },
    {
      "cell_type": "code",
      "source": [
        "loss, accuracy = model.evaluate(X_test, y_test)\n",
        "print(f\"Model Accuracy: {accuracy * 100:.2f}%\")"
      ],
      "metadata": {
        "colab": {
          "base_uri": "https://localhost:8080/"
        },
        "id": "bwALG8Z40iMu",
        "outputId": "7d8ff27d-d51b-4265-8f77-655d74c6dc73"
      },
      "execution_count": 19,
      "outputs": [
        {
          "output_type": "stream",
          "name": "stdout",
          "text": [
            "\u001b[1m9/9\u001b[0m \u001b[32m━━━━━━━━━━━━━━━━━━━━\u001b[0m\u001b[37m\u001b[0m \u001b[1m0s\u001b[0m 2ms/step - accuracy: 0.9835 - loss: 0.0274 \n",
            "Model Accuracy: 98.89%\n"
          ]
        }
      ]
    },
    {
      "cell_type": "code",
      "source": [
        "loss = history.history['loss']\n",
        "val_loss = history.history['val_loss']\n",
        "accuracy = history.history['accuracy']\n",
        "val_accuracy = history.history['val_accuracy']\n",
        "\n",
        "plt.figure(figsize=(12, 6))\n",
        "\n",
        "#Loss\n",
        "plt.subplot(1, 2, 1)\n",
        "plt.plot(loss, label='Training Loss')\n",
        "plt.plot(val_loss, label='Validation Loss')\n",
        "plt.title('Loss')\n",
        "plt.xlabel('Epochs')\n",
        "plt.ylabel('Loss')\n",
        "plt.legend()\n",
        "\n",
        "#Accuracy\n",
        "plt.subplot(1, 2, 2)\n",
        "plt.plot(accuracy, label='Training Accuracy')\n",
        "plt.plot(val_accuracy, label='Validation Accuracy')\n",
        "plt.title('Accuracy')\n",
        "plt.xlabel('Epochs')\n",
        "plt.ylabel('Accuracy')\n",
        "plt.legend()\n",
        "\n",
        "plt.tight_layout()\n",
        "plt.show()"
      ],
      "metadata": {
        "colab": {
          "base_uri": "https://localhost:8080/",
          "height": 601
        },
        "id": "xLaMOI1Q0msk",
        "outputId": "a0e55525-752c-4dee-aeda-4bed4064cb02"
      },
      "execution_count": 20,
      "outputs": [
        {
          "output_type": "display_data",
          "data": {
            "text/plain": [
              "<Figure size 1200x600 with 2 Axes>"
            ],
            "image/png": "[encoded data removed]"
          },
          "metadata": {}
        }
      ]
    },
    {
      "cell_type": "code",
      "source": [
        "from sklearn.metrics import confusion_matrix, classification_report\n",
        "\n",
        "# Prediksi pada data validasi\n",
        "y_pred = (model.predict(X_test) > 0.5).astype(\"int32\")\n",
        "\n",
        "# Confusion matrix\n",
        "cm = confusion_matrix(y_test, y_pred)\n",
        "print(\"Confusion Matrix:\")\n",
        "print(cm)\n",
        "\n",
        "# Laporan klasifikasi\n",
        "print(\"\\nClassification Report:\")\n",
        "print(classification_report(y_test, y_pred))"
      ],
      "metadata": {
        "colab": {
          "base_uri": "https://localhost:8080/"
        },
        "id": "BnZ_sTxR0q_5",
        "outputId": "a99b76db-68ae-41bc-a0d3-e9b4df897df0"
      },
      "execution_count": 21,
      "outputs": [
        {
          "output_type": "stream",
          "name": "stdout",
          "text": [
            "\u001b[1m9/9\u001b[0m \u001b[32m━━━━━━━━━━━━━━━━━━━━\u001b[0m\u001b[37m\u001b[0m \u001b[1m0s\u001b[0m 21ms/step\n",
            "Confusion Matrix:\n",
            "[[ 46   0]\n",
            " [  3 221]]\n",
            "\n",
            "Classification Report:\n",
            "              precision    recall  f1-score   support\n",
            "\n",
            "           0       0.94      1.00      0.97        46\n",
            "           1       1.00      0.99      0.99       224\n",
            "\n",
            "    accuracy                           0.99       270\n",
            "   macro avg       0.97      0.99      0.98       270\n",
            "weighted avg       0.99      0.99      0.99       270\n",
            "\n"
          ]
        }
      ]
    },
    {
      "cell_type": "markdown",
      "source": [
        "# Implementation Model"
      ],
      "metadata": {
        "id": "K79JDoQ5XV16"
      }
    },
    {
      "cell_type": "code",
      "source": [
        "from tabulate import tabulate\n",
        "\n",
        "def recommend_food(glucose_input):\n",
        "    \"\"\"\n",
        "    Memberikan rekomendasi makanan berdasarkan kadar glukosa input,\n",
        "    menampilkan nama makanan, jumlah karbohidrat, kalori, dan estimasi glukosa.\n",
        "\n",
        "    Args:\n",
        "        glucose_input (float): Kadar glukosa dalam darah.\n",
        "\n",
        "    ReReturnsturns:\n",
        "        str: Rekomendasi makanan dalam bentuk tabel atau pesan kesalahan.\n",
        "    \"\"\"\n",
        "    suitable_foods = dataset[(dataset['glucose'] >= glucose_input - 10) &\n",
        "                             (dataset['glucose'] <= glucose_input + 10)]\n",
        "\n",
        "    if suitable_foods.empty:\n",
        "        return f\"Tidak ada makanan dengan estimasi glukosa sekitar {glucose_input} mg/dL.\"\n",
        "\n",
        "    # Siapkan data untuk ditampilkan dalam tabel\n",
        "    table_data = []\n",
        "    for _, row in suitable_foods.iterrows():\n",
        "        table_data.append([row['name'], row['carbohydrate'], row['calories'], row['glucose']])\n",
        "\n",
        "    # Header untuk tabel\n",
        "    headers = [\"Nama Makanan\", \"Karbohidrat (g)\", \"Kalori (kcal)\", \"Estimasi Glukosa (mg/dL)\"]\n",
        "\n",
        "    # Buat tabel\n",
        "    return tabulate(table_data, headers=headers, tablefmt=\"grid\")"
      ],
      "metadata": {
        "id": "LVfaGPgo0vvw"
      },
      "execution_count": 22,
      "outputs": []
    },
    {
      "cell_type": "code",
      "source": [
        "# Contoh input glukosa\n",
        "glucose_input = 80\n",
        "\n",
        "# Mencetak rekomendasi makanan\n",
        "print(recommend_food(glucose_input))"
      ],
      "metadata": {
        "id": "dD30LWXM0zuW",
        "colab": {
          "base_uri": "https://localhost:8080/"
        },
        "outputId": "85245a2f-4a1c-428d-809c-0ecc169886f7"
      },
      "execution_count": 23,
      "outputs": [
        {
          "output_type": "stream",
          "name": "stdout",
          "text": [
            "+-----------------------------+-------------------+-----------------+----------------------------+\n",
            "| Nama Makanan                |   Karbohidrat (g) |   Kalori (kcal) |   Estimasi Glukosa (mg/dL) |\n",
            "+=============================+===================+=================+============================+\n",
            "| Alpukat segar               |               7.7 |            85   |                      76.23 |\n",
            "+-----------------------------+-------------------+-----------------+----------------------------+\n",
            "| Ampas tahu mentah           |               8.1 |            67   |                      80.19 |\n",
            "+-----------------------------+-------------------+-----------------+----------------------------+\n",
            "| Arbei                       |               8.3 |            37   |                      82.17 |\n",
            "+-----------------------------+-------------------+-----------------+----------------------------+\n",
            "| Belimbing                   |               8.8 |            36   |                      87.12 |\n",
            "+-----------------------------+-------------------+-----------------+----------------------------+\n",
            "| Boros Kunci                 |               7.2 |            23   |                      71.28 |\n",
            "+-----------------------------+-------------------+-----------------+----------------------------+\n",
            "| Buah kelor                  |               7.5 |            38   |                      74.25 |\n",
            "+-----------------------------+-------------------+-----------------+----------------------------+\n",
            "| Buncis                      |               7.7 |            35   |                      76.23 |\n",
            "+-----------------------------+-------------------+-----------------+----------------------------+\n",
            "| Buncis asam                 |               8.5 |            60   |                      84.15 |\n",
            "+-----------------------------+-------------------+-----------------+----------------------------+\n",
            "| Bunga pepaya segar          |               8.1 |            45   |                      80.19 |\n",
            "+-----------------------------+-------------------+-----------------+----------------------------+\n",
            "| Buntil                      |               7.9 |           106   |                      78.21 |\n",
            "+-----------------------------+-------------------+-----------------+----------------------------+\n",
            "| Buntil daun talas           |               8   |           141   |                      79.2  |\n",
            "+-----------------------------+-------------------+-----------------+----------------------------+\n",
            "| Cabai merah segar           |               7.3 |            36   |                      72.27 |\n",
            "+-----------------------------+-------------------+-----------------+----------------------------+\n",
            "| Cammetutu                   |               8.7 |           102   |                      86.13 |\n",
            "+-----------------------------+-------------------+-----------------+----------------------------+\n",
            "| Chicken teriyaki masakan    |               7.5 |           168   |                      74.25 |\n",
            "+-----------------------------+-------------------+-----------------+----------------------------+\n",
            "| Daun bawang  merah segar    |               7.8 |            41   |                      77.22 |\n",
            "+-----------------------------+-------------------+-----------------+----------------------------+\n",
            "| Daun bebuas segar           |               7.3 |            41   |                      72.27 |\n",
            "+-----------------------------+-------------------+-----------------+----------------------------+\n",
            "| Daun belem segar            |               7.8 |            50   |                      77.22 |\n",
            "+-----------------------------+-------------------+-----------------+----------------------------+\n",
            "| Daun Kacang Panjang kukus   |               8   |            40   |                      79.2  |\n",
            "+-----------------------------+-------------------+-----------------+----------------------------+\n",
            "| Daun Kecipir                |               8.5 |            47   |                      84.15 |\n",
            "+-----------------------------+-------------------+-----------------+----------------------------+\n",
            "| Daun Kemangi                |               8.9 |            46   |                      88.11 |\n",
            "+-----------------------------+-------------------+-----------------+----------------------------+\n",
            "| Daun kubis segar            |               8   |            51   |                      79.2  |\n",
            "+-----------------------------+-------------------+-----------------+----------------------------+\n",
            "| Daun Leunca                 |               8.1 |            45   |                      80.19 |\n",
            "+-----------------------------+-------------------+-----------------+----------------------------+\n",
            "| Daun Lompong Tales          |               7.4 |            40   |                      73.26 |\n",
            "+-----------------------------+-------------------+-----------------+----------------------------+\n",
            "| Daun pakis wambateu segar   |               7.2 |            53   |                      71.28 |\n",
            "+-----------------------------+-------------------+-----------------+----------------------------+\n",
            "| Daun pare segar             |               8.4 |            49   |                      83.16 |\n",
            "+-----------------------------+-------------------+-----------------+----------------------------+\n",
            "| Daun semanggi segar         |               8.5 |            45   |                      84.15 |\n",
            "+-----------------------------+-------------------+-----------------+----------------------------+\n",
            "| Daun simpur segar           |               7.6 |            53   |                      75.24 |\n",
            "+-----------------------------+-------------------+-----------------+----------------------------+\n",
            "| Daun singkong ampenan segar |               7.1 |            50   |                      70.29 |\n",
            "+-----------------------------+-------------------+-----------------+----------------------------+\n",
            "| Daun Singkong lodeh         |               8.5 |            55   |                      84.15 |\n",
            "+-----------------------------+-------------------+-----------------+----------------------------+\n",
            "| Daun singkong segar         |               7.1 |            50   |                      70.29 |\n",
            "+-----------------------------+-------------------+-----------------+----------------------------+\n",
            "| Daun ubi putih segar        |               8.2 |            46   |                      81.18 |\n",
            "+-----------------------------+-------------------+-----------------+----------------------------+\n",
            "| Dendeng belut goreng        |               8   |           382   |                      79.2  |\n",
            "+-----------------------------+-------------------+-----------------+----------------------------+\n",
            "| Genjer segar                |               7.7 |            35   |                      76.23 |\n",
            "+-----------------------------+-------------------+-----------------+----------------------------+\n",
            "| Gudeg                       |               8.8 |            53   |                      87.12 |\n",
            "+-----------------------------+-------------------+-----------------+----------------------------+\n",
            "| Gulai tiram masakan         |               7.8 |           132   |                      77.22 |\n",
            "+-----------------------------+-------------------+-----------------+----------------------------+\n",
            "| Ikan Bekasang               |               7.4 |           138   |                      73.26 |\n",
            "+-----------------------------+-------------------+-----------------+----------------------------+\n",
            "| Ikan Belida bakar           |               7.2 |           128   |                      71.28 |\n",
            "+-----------------------------+-------------------+-----------------+----------------------------+\n",
            "| Ikan cakalang perut segar   |               8.7 |            86   |                      86.13 |\n",
            "+-----------------------------+-------------------+-----------------+----------------------------+\n",
            "| Ikan sunu asin mentah       |               7.1 |           199   |                      70.29 |\n",
            "+-----------------------------+-------------------+-----------------+----------------------------+\n",
            "| Ikan tongkol segar          |               8   |           100   |                      79.2  |\n",
            "+-----------------------------+-------------------+-----------------+----------------------------+\n",
            "| Jagung muda                 |               7.4 |            35   |                      73.26 |\n",
            "+-----------------------------+-------------------+-----------------+----------------------------+\n",
            "| Jantung Pisang segar        |               7.1 |            31   |                      70.29 |\n",
            "+-----------------------------+-------------------+-----------------+----------------------------+\n",
            "| Jeruk Kalamansi segar       |               8.9 |            39   |                      88.11 |\n",
            "+-----------------------------+-------------------+-----------------+----------------------------+\n",
            "| Jotang                      |               7.1 |            32   |                      70.29 |\n",
            "+-----------------------------+-------------------+-----------------+----------------------------+\n",
            "| Jukku pallu kaloa masakan   |               8.8 |            15   |                      87.12 |\n",
            "+-----------------------------+-------------------+-----------------+----------------------------+\n",
            "| Kacang Panjang              |               7.8 |            44   |                      77.22 |\n",
            "+-----------------------------+-------------------+-----------------+----------------------------+\n",
            "| Kacang Panjang kukus        |               7.6 |            39   |                      75.24 |\n",
            "+-----------------------------+-------------------+-----------------+----------------------------+\n",
            "| Kacang ranti polong         |               7.9 |            37   |                      78.21 |\n",
            "+-----------------------------+-------------------+-----------------+----------------------------+\n",
            "| Kadada katembe              |               7.1 |           110   |                      70.29 |\n",
            "+-----------------------------+-------------------+-----------------+----------------------------+\n",
            "| Kangkung tondano            |               8.4 |            43   |                      83.16 |\n",
            "+-----------------------------+-------------------+-----------------+----------------------------+\n",
            "| Kapurung                    |               7.8 |            41   |                      77.22 |\n",
            "+-----------------------------+-------------------+-----------------+----------------------------+\n",
            "| Kecap                       |               9   |            46   |                      89.1  |\n",
            "+-----------------------------+-------------------+-----------------+----------------------------+\n",
            "| Kemiri                      |               8   |           636   |                      79.2  |\n",
            "+-----------------------------+-------------------+-----------------+----------------------------+\n",
            "| Koro Loke biji              |               7.9 |            33   |                      78.21 |\n",
            "+-----------------------------+-------------------+-----------------+----------------------------+\n",
            "| Koro Wedus buah muda        |               7.9 |            38   |                      78.21 |\n",
            "+-----------------------------+-------------------+-----------------+----------------------------+\n",
            "| Koro wedus polong           |               7.9 |            46   |                      78.21 |\n",
            "+-----------------------------+-------------------+-----------------+----------------------------+\n",
            "| Kucai Muda (Lokio)          |               7.8 |            42   |                      77.22 |\n",
            "+-----------------------------+-------------------+-----------------+----------------------------+\n",
            "| Kue Koya                    |               7.9 |           366   |                      78.21 |\n",
            "+-----------------------------+-------------------+-----------------+----------------------------+\n",
            "| Lawar penyu masakan         |               7.6 |           141   |                      75.24 |\n",
            "+-----------------------------+-------------------+-----------------+----------------------------+\n",
            "| Lemonade                    |               8   |            30   |                      79.2  |\n",
            "+-----------------------------+-------------------+-----------------+----------------------------+\n",
            "| Leunca buah                 |               7.4 |            33   |                      73.26 |\n",
            "+-----------------------------+-------------------+-----------------+----------------------------+\n",
            "| Lumai/Leunca segar          |               7.6 |            38   |                      75.24 |\n",
            "+-----------------------------+-------------------+-----------------+----------------------------+\n",
            "| Melon segar                 |               7.8 |            37   |                      77.22 |\n",
            "+-----------------------------+-------------------+-----------------+----------------------------+\n",
            "| Olah-olah                   |               7.1 |             9   |                      70.29 |\n",
            "+-----------------------------+-------------------+-----------------+----------------------------+\n",
            "| Paniki masak santan masakan |               7.2 |           460   |                      71.28 |\n",
            "+-----------------------------+-------------------+-----------------+----------------------------+\n",
            "| Peterseli                   |               9   |            50   |                      89.1  |\n",
            "+-----------------------------+-------------------+-----------------+----------------------------+\n",
            "| Pisang Siam goreng          |               8.1 |           625   |                      80.19 |\n",
            "+-----------------------------+-------------------+-----------------+----------------------------+\n",
            "| Rendang sapi masakan        |               7.8 |           193   |                      77.22 |\n",
            "+-----------------------------+-------------------+-----------------+----------------------------+\n",
            "| Rujak cingur                |               8   |           153   |                      79.2  |\n",
            "+-----------------------------+-------------------+-----------------+----------------------------+\n",
            "| Rumput laut                 |               8.1 |            41   |                      80.19 |\n",
            "+-----------------------------+-------------------+-----------------+----------------------------+\n",
            "| Santan (dengan air)         |               7.6 |           122   |                      75.24 |\n",
            "+-----------------------------+-------------------+-----------------+----------------------------+\n",
            "| Sawo duren segar            |               8   |            64   |                      79.2  |\n",
            "+-----------------------------+-------------------+-----------------+----------------------------+\n",
            "| Soto dengan Daging          |               8.3 |           127.5 |                      82.17 |\n",
            "+-----------------------------+-------------------+-----------------+----------------------------+\n",
            "| Soto sukaraja masakan       |               9   |            80   |                      89.1  |\n",
            "+-----------------------------+-------------------+-----------------+----------------------------+\n",
            "| Susu Kerbau                 |               7.1 |           160   |                      70.29 |\n",
            "+-----------------------------+-------------------+-----------------+----------------------------+\n",
            "| Tekokak                     |               7.9 |            34   |                      78.21 |\n",
            "+-----------------------------+-------------------+-----------------+----------------------------+\n",
            "| Telur Ayam ceplok           |               8.3 |           383   |                      82.17 |\n",
            "+-----------------------------+-------------------+-----------------+----------------------------+\n",
            "| Telur bebek tambak segar    |               7.9 |           187   |                      78.21 |\n",
            "+-----------------------------+-------------------+-----------------+----------------------------+\n",
            "| Tempe pasar goreng          |               7.8 |           336   |                      77.22 |\n",
            "+-----------------------------+-------------------+-----------------+----------------------------+\n",
            "| Terong hintalo segar        |               7.5 |            45   |                      74.25 |\n",
            "+-----------------------------+-------------------+-----------------+----------------------------+\n",
            "| Terung belanda segar        |               8.6 |            52   |                      85.14 |\n",
            "+-----------------------------+-------------------+-----------------+----------------------------+\n",
            "| Waluh balamak               |               8.1 |            45   |                      80.19 |\n",
            "+-----------------------------+-------------------+-----------------+----------------------------+\n",
            "| Wortel kukus                |               8.3 |            37   |                      82.17 |\n",
            "+-----------------------------+-------------------+-----------------+----------------------------+\n"
          ]
        }
      ]
    },
    {
      "cell_type": "markdown",
      "source": [
        "# Save Model"
      ],
      "metadata": {
        "id": "sj_Loy18bVhx"
      }
    },
    {
      "cell_type": "code",
      "source": [
        "model.save(\"model_glucose.h5\")"
      ],
      "metadata": {
        "id": "aeTGe51AbZYN",
        "colab": {
          "base_uri": "https://localhost:8080/"
        },
        "outputId": "cbe71790-f951-451c-c968-41cf223a0f66"
      },
      "execution_count": 24,
      "outputs": [
        {
          "output_type": "stream",
          "name": "stderr",
          "text": [
            "WARNING:absl:You are saving your model as an HDF5 file via `model.save()` or `keras.saving.save_model(model)`. This file format is considered legacy. We recommend using instead the native Keras format, e.g. `model.save('my_model.keras')` or `keras.saving.save_model(model, 'my_model.keras')`. \n"
          ]
        }
      ]
    },
    {
      "cell_type": "code",
      "source": [
        "from google.colab import files\n",
        "files.download(\"model_glucose.h5\")"
      ],
      "metadata": {
        "colab": {
          "base_uri": "https://localhost:8080/",
          "height": 17
        },
        "id": "3biT2vnhol9B",
        "outputId": "4148cf38-6fd9-4230-d980-21c8854ce187"
      },
      "execution_count": 25,
      "outputs": [
        {
          "output_type": "display_data",
          "data": {
            "text/plain": [
              "<IPython.core.display.Javascript object>"
            ],
            "application/javascript": [
              "\n",
              "    async function download(id, filename, size) {\n",
              "      if (!google.colab.kernel.accessAllowed) {\n",
              "        return;\n",
              "      }\n",
              "      const div = document.createElement('div');\n",
              "      const label = document.createElement('label');\n",
              "      label.textContent = `Downloading \"${filename}\": `;\n",
              "      div.appendChild(label);\n",
              "      const progress = document.createElement('progress');\n",
              "      progress.max = size;\n",
              "      div.appendChild(progress);\n",
              "      document.body.appendChild(div);\n",
              "\n",
              "      const buffers = [];\n",
              "      let downloaded = 0;\n",
              "\n",
              "      const channel = await google.colab.kernel.comms.open(id);\n",
              "      // Send a message to notify the kernel that we're ready.\n",
              "      channel.send({})\n",
              "\n",
              "      for await (const message of channel.messages) {\n",
              "        // Send a message to notify the kernel that we're ready.\n",
              "        channel.send({})\n",
              "        if (message.buffers) {\n",
              "          for (const buffer of message.buffers) {\n",
              "            buffers.push(buffer);\n",
              "            downloaded += buffer.byteLength;\n",
              "            progress.value = downloaded;\n",
              "          }\n",
              "        }\n",
              "      }\n",
              "      const blob = new Blob(buffers, {type: 'application/binary'});\n",
              "      const a = document.createElement('a');\n",
              "      a.href = window.URL.createObjectURL(blob);\n",
              "      a.download = filename;\n",
              "      div.appendChild(a);\n",
              "      a.click();\n",
              "      div.remove();\n",
              "    }\n",
              "  "
            ]
          },
          "metadata": {}
        },
        {
          "output_type": "display_data",
          "data": {
            "text/plain": [
              "<IPython.core.display.Javascript object>"
            ],
            "application/javascript": [
              "download(\"download_6c9a555f-3030-4408-a90d-1af7e58a93f2\", \"model_glucose.h5\", 262480)"
            ]
          },
          "metadata": {}
        }
      ]
    }
  ]
}